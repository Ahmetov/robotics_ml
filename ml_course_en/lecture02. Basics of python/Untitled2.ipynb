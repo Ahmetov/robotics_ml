{
 "cells": [
  {
   "cell_type": "code",
   "execution_count": 3,
   "metadata": {},
   "outputs": [
    {
     "name": "stdout",
     "output_type": "stream",
     "text": [
      "10968928\n",
      "10968896\n",
      "140195522327112\n",
      "140195522327112\n"
     ]
    }
   ],
   "source": [
    "a = 5\n",
    "print(id(a))\n",
    "a = 4\n",
    "print(id(a))\n",
    "l = [1, 2]\n",
    "print(id(l))\n",
    "l.append(5)\n",
    "print(id(l))\n",
    "\n"
   ]
  },
  {
   "cell_type": "code",
   "execution_count": 4,
   "metadata": {},
   "outputs": [
    {
     "data": {
      "text/plain": [
       "25"
      ]
     },
     "execution_count": 4,
     "metadata": {},
     "output_type": "execute_result"
    }
   ],
   "source": [
    "5 ** 2"
   ]
  },
  {
   "cell_type": "code",
   "execution_count": 17,
   "metadata": {},
   "outputs": [
    {
     "data": {
      "text/plain": [
       "20000000000000000000000000000000000000000000000000000000000000000000000000000000000000000000000000000000000000000000000000000000000000000000000000000000000000000000000000000000000000000000000000000000000000000000000000000000000000000000000000000000000000000000000000000000000000000000000000000000000000000000000000000000000000000000000000000000000000000000000000000000000000000000000000000000000000000000000000000000000000000000000000000000000000000000000000000000000000000000000000000000000000000000000000000000000000000000000000000000000000000000000000000000000000000000000000000000000000000000000000000000000000000000000000000000000000000000000000000000000000000000000000000000000000000000000000000000000000000000000000000000000000000000000000000000000000000000000000000000000000000000000000000000000000000000000000000000000000000000000000000000000000000000000000000000000000000000000000000000000000000000000000000000000000000000000000000000000000000000000000000000000000000000000000000000000000000"
      ]
     },
     "execution_count": 17,
     "metadata": {},
     "output_type": "execute_result"
    }
   ],
   "source": [
    "(10 ** 1000) * 2"
   ]
  },
  {
   "cell_type": "code",
   "execution_count": 19,
   "metadata": {},
   "outputs": [
    {
     "name": "stdout",
     "output_type": "stream",
     "text": [
      "my name is kirill\n"
     ]
    }
   ],
   "source": [
    "name = \"kirill\"\n",
    "str = \"my name is {}\".format(name)\n",
    "print(str)"
   ]
  },
  {
   "cell_type": "code",
   "execution_count": 20,
   "metadata": {},
   "outputs": [
    {
     "data": {
      "text/plain": [
       "['__add__',\n",
       " '__class__',\n",
       " '__contains__',\n",
       " '__delattr__',\n",
       " '__dir__',\n",
       " '__doc__',\n",
       " '__eq__',\n",
       " '__format__',\n",
       " '__ge__',\n",
       " '__getattribute__',\n",
       " '__getitem__',\n",
       " '__getnewargs__',\n",
       " '__gt__',\n",
       " '__hash__',\n",
       " '__init__',\n",
       " '__init_subclass__',\n",
       " '__iter__',\n",
       " '__le__',\n",
       " '__len__',\n",
       " '__lt__',\n",
       " '__mod__',\n",
       " '__mul__',\n",
       " '__ne__',\n",
       " '__new__',\n",
       " '__reduce__',\n",
       " '__reduce_ex__',\n",
       " '__repr__',\n",
       " '__rmod__',\n",
       " '__rmul__',\n",
       " '__setattr__',\n",
       " '__sizeof__',\n",
       " '__str__',\n",
       " '__subclasshook__',\n",
       " 'capitalize',\n",
       " 'casefold',\n",
       " 'center',\n",
       " 'count',\n",
       " 'encode',\n",
       " 'endswith',\n",
       " 'expandtabs',\n",
       " 'find',\n",
       " 'format',\n",
       " 'format_map',\n",
       " 'index',\n",
       " 'isalnum',\n",
       " 'isalpha',\n",
       " 'isdecimal',\n",
       " 'isdigit',\n",
       " 'isidentifier',\n",
       " 'islower',\n",
       " 'isnumeric',\n",
       " 'isprintable',\n",
       " 'isspace',\n",
       " 'istitle',\n",
       " 'isupper',\n",
       " 'join',\n",
       " 'ljust',\n",
       " 'lower',\n",
       " 'lstrip',\n",
       " 'maketrans',\n",
       " 'partition',\n",
       " 'replace',\n",
       " 'rfind',\n",
       " 'rindex',\n",
       " 'rjust',\n",
       " 'rpartition',\n",
       " 'rsplit',\n",
       " 'rstrip',\n",
       " 'split',\n",
       " 'splitlines',\n",
       " 'startswith',\n",
       " 'strip',\n",
       " 'swapcase',\n",
       " 'title',\n",
       " 'translate',\n",
       " 'upper',\n",
       " 'zfill']"
      ]
     },
     "execution_count": 20,
     "metadata": {},
     "output_type": "execute_result"
    }
   ],
   "source": [
    "dir(\"\")"
   ]
  },
  {
   "cell_type": "code",
   "execution_count": 23,
   "metadata": {},
   "outputs": [
    {
     "data": {
      "text/plain": [
       "' help(\"\".strip)\\n6 + 7\\n'"
      ]
     },
     "execution_count": 23,
     "metadata": {},
     "output_type": "execute_result"
    }
   ],
   "source": [
    "''' help(\"\".strip)\n",
    "6 + 7\n",
    "'''"
   ]
  },
  {
   "cell_type": "code",
   "execution_count": 24,
   "metadata": {},
   "outputs": [],
   "source": [
    "a = 6\n",
    "a = \"str\"\n",
    "\n"
   ]
  },
  {
   "cell_type": "code",
   "execution_count": 43,
   "metadata": {},
   "outputs": [
    {
     "name": "stdout",
     "output_type": "stream",
     "text": [
      "[1, 2, 3, 3, 4, 5, 100] [3]\n",
      "Help on built-in function insert:\n",
      "\n",
      "insert(...) method of builtins.list instance\n",
      "    L.insert(index, object) -- insert object before index\n",
      "\n",
      "6\n"
     ]
    }
   ],
   "source": [
    "l = [3, 4, 5]\n",
    "l.append(1)\n",
    "l.append(2)\n",
    "l.append(3)\n",
    "l.insert(3, 100)\n",
    "lst = list()\n",
    "lst.append(3)\n",
    "l.sort()\n",
    "#l.reverse()\n",
    "\n",
    "print(l, lst)\n",
    "help([].insert)\n",
    "\n",
    "print(l.index(100))\n"
   ]
  },
  {
   "cell_type": "code",
   "execution_count": 42,
   "metadata": {},
   "outputs": [
    {
     "name": "stdout",
     "output_type": "stream",
     "text": [
      "[[3, 4], [4, 5], 7]\n"
     ]
    }
   ],
   "source": [
    "l = [[3, 4], [4, 5], 7]\n",
    "print(l)"
   ]
  },
  {
   "cell_type": "code",
   "execution_count": 44,
   "metadata": {},
   "outputs": [
    {
     "name": "stdout",
     "output_type": "stream",
     "text": [
      "5 [1, 2, 3, 4]\n"
     ]
    }
   ],
   "source": [
    "l = [1, 2, 3, 4, 5]\n",
    "a = l.pop()\n",
    "print(a, l)"
   ]
  },
  {
   "cell_type": "code",
   "execution_count": 87,
   "metadata": {},
   "outputs": [
    {
     "name": "stdout",
     "output_type": "stream",
     "text": [
      "{'name': 'Kirill', 'age': 34, 'lastname': 'Svyatov'}\n",
      "key is name; values is Kirill\n",
      "key is age; values is 34\n",
      "key is lastname; values is Svyatov\n",
      "3 8\n",
      "True\n",
      "Kirill\n",
      "Kirill\n",
      "\n"
     ]
    }
   ],
   "source": [
    "d = {}\n",
    "d['name'] = 'Kirill'\n",
    "d['age'] = 34\n",
    "d['lastname'] = 'Svyatov'\n",
    "print(d)\n",
    "\n",
    "for k, v in d.items():\n",
    "    print(\"key is {}; values is {}\".format(k, v))\n",
    "\n",
    "b = 8\n",
    "a = 3\n",
    "c = 15\n",
    "if 2 < a < 5 < b < 10 < c < 20:\n",
    "    print(a, b)\n",
    "#else:\n",
    "#    print(\"not exist\")\n",
    "\n",
    "print('name' in d)\n",
    "print(d.get('name', 'not exist'))\n",
    "print('not exist' if 'name' not in d else d['name'])\n",
    "\n",
    "print()"
   ]
  },
  {
   "cell_type": "code",
   "execution_count": 80,
   "metadata": {},
   "outputs": [
    {
     "name": "stdout",
     "output_type": "stream",
     "text": [
      "(11, 'hello')\n",
      "11 hello\n"
     ]
    }
   ],
   "source": [
    "def do_my_sum(a, b = 6):\n",
    "    \"\"\" returns a sum of numbers\"\"\"\n",
    "    message = \"hello\"\n",
    "    return a + b, message\n",
    "print(do_my_sum(5))\n",
    "a, b = do_my_sum(5)\n",
    "print(a, b)\n",
    "#help(my_sum)"
   ]
  },
  {
   "cell_type": "code",
   "execution_count": 86,
   "metadata": {},
   "outputs": [
    {
     "name": "stdout",
     "output_type": "stream",
     "text": [
      "[10, 15, 20, 25, 30, 35, 40, 45, 50, 55, 60, 65, 70, 75, 80, 85, 90, 95]\n",
      "18\n",
      "0 10\n",
      "1 15\n",
      "2 20\n",
      "3 25\n",
      "4 30\n",
      "5 35\n",
      "6 40\n",
      "7 45\n",
      "8 50\n",
      "9 55\n",
      "10 60\n",
      "11 65\n",
      "12 70\n",
      "13 75\n",
      "14 80\n",
      "15 85\n",
      "16 90\n",
      "17 95\n",
      "945\n"
     ]
    }
   ],
   "source": [
    "l = range(10, 100, 5)\n",
    "lst = list(l)\n",
    "print(lst)\n",
    "sum = 0\n",
    "a, b = 5, 6\n",
    "print(len(lst))\n",
    "for i, val in enumerate(l):\n",
    "    sum += val\n",
    "    print(i, val)\n",
    "print(sum)\n",
    "\n",
    "\n"
   ]
  },
  {
   "cell_type": "code",
   "execution_count": 84,
   "metadata": {},
   "outputs": [],
   "source": [
    "for i in range(10):\n",
    "    pass\n",
    "\n"
   ]
  },
  {
   "cell_type": "code",
   "execution_count": 85,
   "metadata": {},
   "outputs": [
    {
     "name": "stdout",
     "output_type": "stream",
     "text": [
      "[0.         0.11111111 0.22222222 0.33333333 0.44444444 0.55555556\n",
      " 0.66666667 0.77777778 0.88888889 1.        ]\n"
     ]
    }
   ],
   "source": [
    "import numpy as np\n",
    "l = np.linspace(0, 1, 10)\n",
    "print(l)"
   ]
  },
  {
   "cell_type": "code",
   "execution_count": 111,
   "metadata": {},
   "outputs": [
    {
     "name": "stdout",
     "output_type": "stream",
     "text": [
      "[5, 10, 15, 20, 25, 30, 35, 40, 45, 50, 55, 60, 65, 70, 75, 80, 85, 90, 95]\n",
      "[5, 10]\n",
      "[25, 100, 225, 400, 0, 0, 0, 0, 0, 0, 0, 0, 0, 0, 0, 0, 0, 0, 0]\n",
      "[25, 100, 225, 400, 0, 0, 0, 0, 0, 0, 0, 0, 0, 0, 0, 0, 0, 0, 0]\n"
     ]
    }
   ],
   "source": [
    "l = list(range(5, 100, 5))\n",
    "print(l)\n",
    "print(l[0:2])\n",
    "\n",
    "lst = [0 if i > 20 else i ** 2 for i in l]\n",
    "\n",
    "print(lst)\n",
    "\n",
    "lst2 = list(map(lambda i: 0 if i > 20 else i ** 2, l))\n",
    "print(lst2)"
   ]
  },
  {
   "cell_type": "code",
   "execution_count": 106,
   "metadata": {},
   "outputs": [
    {
     "data": {
      "text/plain": [
       "11"
      ]
     },
     "execution_count": 106,
     "metadata": {},
     "output_type": "execute_result"
    }
   ],
   "source": [
    "my_sum = lambda a, b: 5 if 1 < a < 5 < b < 7 else -1\n",
    "my_sum(5, 6)"
   ]
  },
  {
   "cell_type": "code",
   "execution_count": 116,
   "metadata": {},
   "outputs": [
    {
     "name": "stdout",
     "output_type": "stream",
     "text": [
      "3\n",
      "[2, 7, 8, 3, 5, 3, 2, 7, 0, 3]\n",
      "[5, 1, 7, 0, 1, 1, 7, 7, 5, 1, 10, 2, 1, 8, 7]\n"
     ]
    }
   ],
   "source": [
    "import random as r\n",
    "a = r.randint(0, 10)\n",
    "print(a)\n",
    "\n",
    "l = []\n",
    "for i in range(10):\n",
    "    l.append(r.randint(0, 10))\n",
    "    \n",
    "lst = [r.randint(0, 10) for i in range(15)]\n",
    "print(l)\n",
    "print(lst)\n",
    "\n",
    "\n"
   ]
  },
  {
   "cell_type": "code",
   "execution_count": 132,
   "metadata": {},
   "outputs": [
    {
     "data": {
      "text/plain": [
       "[<matplotlib.lines.Line2D at 0x7f81d7626e80>]"
      ]
     },
     "execution_count": 132,
     "metadata": {},
     "output_type": "execute_result"
    },
    {
     "data": {
      "image/png": "[encoded data removed]",
      "text/plain": [
       "<Figure size 432x288 with 2 Axes>"
      ]
     },
     "metadata": {
      "needs_background": "light"
     },
     "output_type": "display_data"
    }
   ],
   "source": [
    "import numpy as np\n",
    "import matplotlib.pyplot as plt\n",
    "import math\n",
    "x = np.linspace(0, 5, 50)\n",
    "y1 = [math.sin(i) + r.uniform(-0.2, 0.2) for i in x]\n",
    "y2 = [math.sin(i) for i in x]\n",
    "#print(x, y)\n",
    "\n",
    "plt.subplot(2, 1, 1)\n",
    "plt.plot(x, y1, 'ro')\n",
    "plt.xlabel(\"x\")\n",
    "plt.ylabel(\"y1\")\n",
    "plt.subplot(2, 1, 2)\n",
    "plt.plot(x, y2, 'b--')\n",
    "plt.show()\n",
    "\n",
    "\n"
   ]
  }
 ],
 "metadata": {
  "kernelspec": {
   "display_name": "Python 3",
   "language": "python",
   "name": "python3"
  },
  "language_info": {
   "codemirror_mode": {
    "name": "ipython",
    "version": 3
   },
   "file_extension": ".py",
   "mimetype": "text/x-python",
   "name": "python",
   "nbconvert_exporter": "python",
   "pygments_lexer": "ipython3",
   "version": "3.6.8"
  }
 },
 "nbformat": 4,
 "nbformat_minor": 4
}
