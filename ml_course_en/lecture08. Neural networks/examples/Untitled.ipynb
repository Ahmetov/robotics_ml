{
 "cells": [
  {
   "cell_type": "code",
   "execution_count": 1,
   "metadata": {},
   "outputs": [
    {
     "name": "stderr",
     "output_type": "stream",
     "text": [
      "/usr/local/lib/python3.6/dist-packages/ipykernel_launcher.py:16: FutureWarning: \n",
      ".ix is deprecated. Please use\n",
      ".loc for label based indexing or\n",
      ".iloc for positional indexing\n",
      "\n",
      "See the documentation here:\n",
      "http://pandas.pydata.org/pandas-docs/stable/user_guide/indexing.html#ix-indexer-is-deprecated\n",
      "  app.launch_new_instance()\n",
      "/usr/local/lib/python3.6/dist-packages/pandas/core/indexing.py:808: FutureWarning: \n",
      ".ix is deprecated. Please use\n",
      ".loc for label based indexing or\n",
      ".iloc for positional indexing\n",
      "\n",
      "See the documentation here:\n",
      "http://pandas.pydata.org/pandas-docs/stable/user_guide/indexing.html#ix-indexer-is-deprecated\n",
      "  retval = getattr(retval, self.name)._getitem_axis(key, axis=i)\n",
      "/usr/local/lib/python3.6/dist-packages/ipykernel_launcher.py:17: FutureWarning: \n",
      ".ix is deprecated. Please use\n",
      ".loc for label based indexing or\n",
      ".iloc for positional indexing\n",
      "\n",
      "See the documentation here:\n",
      "http://pandas.pydata.org/pandas-docs/stable/user_guide/indexing.html#ix-indexer-is-deprecated\n",
      "/usr/local/lib/python3.6/dist-packages/ipykernel_launcher.py:20: FutureWarning: \n",
      ".ix is deprecated. Please use\n",
      ".loc for label based indexing or\n",
      ".iloc for positional indexing\n",
      "\n",
      "See the documentation here:\n",
      "http://pandas.pydata.org/pandas-docs/stable/user_guide/indexing.html#ix-indexer-is-deprecated\n",
      "/usr/local/lib/python3.6/dist-packages/ipykernel_launcher.py:21: FutureWarning: \n",
      ".ix is deprecated. Please use\n",
      ".loc for label based indexing or\n",
      ".iloc for positional indexing\n",
      "\n",
      "See the documentation here:\n",
      "http://pandas.pydata.org/pandas-docs/stable/user_guide/indexing.html#ix-indexer-is-deprecated\n"
     ]
    },
    {
     "name": "stdout",
     "output_type": "stream",
     "text": [
      "Random: 0; accuracy: 0.35175879396984927\n"
     ]
    },
    {
     "name": "stderr",
     "output_type": "stream",
     "text": [
      "/usr/local/lib/python3.6/dist-packages/sklearn/neural_network/multilayer_perceptron.py:566: ConvergenceWarning: Stochastic Optimizer: Maximum iterations (2000) reached and the optimization hasn't converged yet.\n",
      "  % self.max_iter, ConvergenceWarning)\n"
     ]
    },
    {
     "name": "stdout",
     "output_type": "stream",
     "text": [
      "Random: 1; accuracy: 0.7185929648241206\n"
     ]
    },
    {
     "name": "stderr",
     "output_type": "stream",
     "text": [
      "/usr/local/lib/python3.6/dist-packages/sklearn/neural_network/multilayer_perceptron.py:566: ConvergenceWarning: Stochastic Optimizer: Maximum iterations (2000) reached and the optimization hasn't converged yet.\n",
      "  % self.max_iter, ConvergenceWarning)\n",
      "/usr/local/lib/python3.6/dist-packages/sklearn/neural_network/multilayer_perceptron.py:566: ConvergenceWarning: Stochastic Optimizer: Maximum iterations (2000) reached and the optimization hasn't converged yet.\n",
      "  % self.max_iter, ConvergenceWarning)\n"
     ]
    },
    {
     "name": "stdout",
     "output_type": "stream",
     "text": [
      "Random: 2; accuracy: 0.6532663316582915\n"
     ]
    },
    {
     "name": "stderr",
     "output_type": "stream",
     "text": [
      "/usr/local/lib/python3.6/dist-packages/sklearn/neural_network/multilayer_perceptron.py:566: ConvergenceWarning: Stochastic Optimizer: Maximum iterations (2000) reached and the optimization hasn't converged yet.\n",
      "  % self.max_iter, ConvergenceWarning)\n"
     ]
    },
    {
     "name": "stdout",
     "output_type": "stream",
     "text": [
      "Random: 3; accuracy: 0.6532663316582915\n"
     ]
    },
    {
     "name": "stderr",
     "output_type": "stream",
     "text": [
      "/usr/local/lib/python3.6/dist-packages/sklearn/neural_network/multilayer_perceptron.py:566: ConvergenceWarning: Stochastic Optimizer: Maximum iterations (2000) reached and the optimization hasn't converged yet.\n",
      "  % self.max_iter, ConvergenceWarning)\n"
     ]
    },
    {
     "name": "stdout",
     "output_type": "stream",
     "text": [
      "Random: 5; accuracy: 0.6532663316582915\n"
     ]
    },
    {
     "name": "stderr",
     "output_type": "stream",
     "text": [
      "/usr/local/lib/python3.6/dist-packages/sklearn/neural_network/multilayer_perceptron.py:566: ConvergenceWarning: Stochastic Optimizer: Maximum iterations (2000) reached and the optimization hasn't converged yet.\n",
      "  % self.max_iter, ConvergenceWarning)\n"
     ]
    },
    {
     "name": "stdout",
     "output_type": "stream",
     "text": [
      "Perceptron:  0.35175879396984927 0.6532663316582915 0.7185929648241206 0.12962876251164804\n",
      "Perceptron with Norm:  0.6030150753768844 0.7487437185929648 0.8241206030150754 0.07673812731184353\n",
      "MLP:  0.6532663316582915 0.6532663316582915 0.6532663316582915 0.0\n",
      "MLP with Norm:  0.8894472361809045 0.8944723618090452 0.8994974874371859 0.0037604596851999574\n"
     ]
    },
    {
     "data": {
      "text/plain": [
       "<Figure size 1700x900 with 1 Axes>"
      ]
     },
     "metadata": {},
     "output_type": "display_data"
    }
   ],
   "source": [
    "import numpy as np\n",
    "import pandas\n",
    "import matplotlib.pyplot as plt\n",
    "import matplotlib as mpl\n",
    "from sklearn.linear_model import Perceptron\n",
    "from sklearn.preprocessing import StandardScaler\n",
    "from sklearn.metrics import accuracy_score\n",
    "from sklearn.neural_network import MLPClassifier\n",
    "\n",
    "\n",
    "def median(lst):\n",
    "    return np.median(np.array(lst))\n",
    "\n",
    "\n",
    "data_train = pandas.read_csv('perceptron-train.csv')\n",
    "X_train = data_train.ix[:, 1:3].values\n",
    "y_train = data_train.ix[:, 0].values\n",
    "\n",
    "data_test = pandas.read_csv('perceptron-test.csv')\n",
    "X_test = data_test.ix[:, 1:3].values\n",
    "y_test = data_test.ix[:, 0].values\n",
    "\n",
    "\n",
    "rs = np.linspace(0,5,num=5)\n",
    "\n",
    "acc_p = []\n",
    "acc_pn = []\n",
    "acc_mlp = []\n",
    "acc_mlpn = []\n",
    "\n",
    "for i in rs:\n",
    "    i = int(i)\n",
    "    clf = Perceptron(random_state=i, alpha=0.01, max_iter=2000)\n",
    "    clf.fit(X_train, y_train)\n",
    "    predictions = clf.predict(X_test)\n",
    "    acc = accuracy_score(y_test, predictions)\n",
    "    print(\"Random: {}; accuracy: {}\".format(i, acc))\n",
    "    acc_p.append(acc)\n",
    "\n",
    "    scaler = StandardScaler()\n",
    "    X_train_scaled = scaler.fit_transform(X_train)\n",
    "    X_test_scaled = scaler.transform(X_test)\n",
    "\n",
    "    clf = Perceptron(random_state=i, alpha=0.01, max_iter=2000)\n",
    "    clf.fit(X_train_scaled, y_train)\n",
    "    predictions = clf.predict(X_test_scaled)\n",
    "    acc = accuracy_score(y_test, predictions)\n",
    "    # print \"Perceptron with normalization: \", acc\n",
    "    acc_pn.append(acc)\n",
    "\n",
    "    mlp = MLPClassifier(random_state=i, solver=\"sgd\", activation=\"tanh\", alpha=0.01, hidden_layer_sizes=(20, ), max_iter=2000, tol=0.00000001)\n",
    "    mlp.fit(X_train_scaled, y_train)\n",
    "    predictions = mlp.predict(X_test)\n",
    "    acc = accuracy_score(y_test, predictions)\n",
    "    # print \"MLP: \",  acc\n",
    "    acc_mlp.append(acc)\n",
    "\n",
    "    mlp = MLPClassifier(random_state=i, solver=\"sgd\", activation=\"tanh\", alpha=0.01, hidden_layer_sizes=(230, 230, 230), max_iter=2000, tol=0.00000001)\n",
    "    mlp.fit(X_train_scaled, y_train)\n",
    "    predictions = mlp.predict(X_test_scaled)\n",
    "    acc = accuracy_score(y_test, predictions)\n",
    "    # print \"MLP: \",  acc\n",
    "    acc_mlpn.append(acc)\n",
    "\n",
    "print(\"Perceptron: \", min(acc_p), median(acc_p), max(acc_p), np.std(acc_p))\n",
    "print(\"Perceptron with Norm: \", min(acc_pn), median(acc_pn), max(acc_pn), np.std(acc_pn))\n",
    "print(\"MLP: \", min(acc_mlp), median(acc_mlp), max(acc_mlp), np.std(acc_mlp))\n",
    "print(\"MLP with Norm: \", min(acc_mlpn), median(acc_mlpn), max(acc_mlpn), np.std(acc_mlpn))\n",
    "\n",
    "X = np.concatenate((X_train, X_test), axis=0)\n",
    "x_min, x_max = X[:, 0].min() - .5, X[:, 0].max() + .5\n",
    "y_min, y_max = X[:, 1].min() - .5, X[:, 1].max() + .5\n",
    "\n",
    "figure = plt.figure(figsize=(17, 9))\n",
    "cm = plt.cm.RdBu\n",
    "cm_bright = mpl.colors.ListedColormap(['#FF0000', '#0000FF'])\n",
    "ax = plt.subplot(1, 1, 1)\n",
    "# Plot the training points\n",
    "ax.scatter(X_train[:, 0], X_train[:, 1], c=y_train, cmap=cm_bright)\n",
    "# and testing points\n",
    "ax.scatter(X_test[:, 0], X_test[:, 1], c=y_test, cmap=cm_bright, alpha=0.6)\n",
    "ax.set_xlim(x_min, x_max)\n",
    "ax.set_ylim(y_min, y_max)\n",
    "ax.set_xticks(())\n",
    "ax.set_yticks(())\n",
    "plt.show()"
   ]
  }
 ],
 "metadata": {
  "kernelspec": {
   "display_name": "Python 3",
   "language": "python",
   "name": "python3"
  },
  "language_info": {
   "codemirror_mode": {
    "name": "ipython",
    "version": 3
   },
   "file_extension": ".py",
   "mimetype": "text/x-python",
   "name": "python",
   "nbconvert_exporter": "python",
   "pygments_lexer": "ipython3",
   "version": "3.6.8"
  }
 },
 "nbformat": 4,
 "nbformat_minor": 4
}
